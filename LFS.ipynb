{
 "cells": [
  {
   "cell_type": "code",
   "execution_count": 1,
   "id": "b3303be0-0601-4e0f-b687-c05e73f6cfe0",
   "metadata": {},
   "outputs": [],
   "source": [
    "import pandas as pd\n",
    "import numpy as np"
   ]
  },
  {
   "cell_type": "code",
   "execution_count": 70,
   "id": "d9882b4f-7683-40c2-b78e-a65c196e68a2",
   "metadata": {},
   "outputs": [],
   "source": [
    "import numpy as np\n",
    "\n",
    "def compute_markov_coefficients(data, labels, gamma):\n",
    "    \"\"\"\n",
    "    Compute Markov coefficients for feature selection using Fisher-Markov selector.\n",
    "\n",
    "    Parameters:\n",
    "    - data: numpy array, shape (n_samples, n_features)\n",
    "        Input data matrix.\n",
    "    - labels: numpy array, shape (n_samples,)\n",
    "        Class labels for the samples.\n",
    "    - gamma: float\n",
    "\n",
    "    Returns:\n",
    "    - markov_coefficients: numpy array, shape (n_features,)\n",
    "        Array containing the Markov coefficients for each feature.\n",
    "    \"\"\"\n",
    "    n_samples, n_features = data.shape  \n",
    "    classes = np.unique(labels)\n",
    "    g = len(classes)\n",
    "    class_indices = [np.where(labels == c)[0] for c in classes]\n",
    "    markov_coefficients = np.zeros(n_features)\n",
    "\n",
    "    for j in range(n_features):\n",
    "        within_class_sum = 0\n",
    "        for i in range(g):\n",
    "            class_data = data[class_indices[i]][:, j]\n",
    "            ni = len(class_data)\n",
    "            within_class_sum += np.sum(np.outer(class_data, class_data)) / ni\n",
    "            \n",
    "        within_class_sum /= n_samples  \n",
    "        total_sum = np.sum(np.square(data[:, j]))\n",
    "        #print (within_class_sum,-(gamma / n_samples) * total_sum,(gamma - 1) / (n_samples ** 2) * np.sum(np.outer(data[:, j], data[:, j])))\n",
    "        markov_coefficients[j] = within_class_sum - (gamma / n_samples) * total_sum + (gamma - 1) / (n_samples ** 2) * np.sum(np.outer(data[:, j], data[:, j]))\n",
    "\n",
    "    return markov_coefficients\n",
    "\n",
    "def fisher_markov_selector(data, labels, gamma, beta):\n",
    "    \"\"\"\n",
    "    Perform feature selection using Fisher-Markov selector.\n",
    "\n",
    "    Parameters:\n",
    "    - data: numpy array, shape (n_samples, n_features)\n",
    "        Input data matrix.\n",
    "    - labels: numpy array, shape (n_samples,)\n",
    "        Class labels for the samples.\n",
    "    - gamma: float\n",
    "    - beta: float\n",
    "        Threshold for selecting features.\n",
    "\n",
    "    Returns:\n",
    "    - feature_selector: numpy array, shape (n_features,)\n",
    "        Binary array indicating selected features (1) and unselected features (0).\n",
    "    \"\"\"\n",
    "    n_samples, n_features = data.shape\n",
    "    markov_coefficients = compute_markov_coefficients(data, labels, gamma)\n",
    "    feature_selector = np.zeros(n_features)\n",
    "\n",
    "    for j in range(n_features):\n",
    "        if markov_coefficients[j] > beta:\n",
    "            feature_selector[j] = 1\n",
    "\n",
    "    return feature_selector\n"
   ]
  },
  {
   "cell_type": "markdown",
   "id": "da69e3d9-7c31-4345-bf9f-7d9c35cad027",
   "metadata": {},
   "source": [
    "# Toy Example"
   ]
  },
  {
   "cell_type": "code",
   "execution_count": 78,
   "id": "9a18dfbf-32dc-4a90-9b00-b0f4688d8453",
   "metadata": {},
   "outputs": [
    {
     "name": "stdout",
     "output_type": "stream",
     "text": [
      "Selected Features: [1. 1. 1. 0. 0.]\n"
     ]
    }
   ],
   "source": [
    "toy_data = np.array([[1, 1.2, 0.5, 0.8, 0.3],\n",
    "    [1, 2.4, 1.1, 0.6, 0.9],\n",
    "    [1, 0.8, 0.3, 0.7, 0.1],\n",
    "    [2, 1.6, 0.9, 1.2, 0.4],\n",
    "    [2, 2.0, 1.5, 1.1, 0.7],\n",
    "    [2, 0.5, 0.2, 0.6, 0.2]])\n",
    "\n",
    "toy_y =  np.array([1 ,1 ,1 ,2 ,2 ,2]) # Example class labels\n",
    "\n",
    "# Set gamma and beta values\n",
    "gamma = -0.5\n",
    "beta = 0.1\n",
    "\n",
    "# Run feature selection\n",
    "selected_features_toy = fisher_markov_selector(toy_data, toy_y, gamma, beta)\n",
    "print(\"Selected Features:\", selected_features_toy)"
   ]
  },
  {
   "cell_type": "markdown",
   "id": "445e0b94-66ed-444a-9c85-010d949fc13e",
   "metadata": {},
   "source": [
    "# Iris data"
   ]
  },
  {
   "cell_type": "code",
   "execution_count": 79,
   "id": "6407003d-08dd-4898-a8f2-88bf9a164c84",
   "metadata": {},
   "outputs": [
    {
     "name": "stdout",
     "output_type": "stream",
     "text": [
      "Selected Features: [1. 0. 1. 1.]\n"
     ]
    }
   ],
   "source": [
    "from sklearn.datasets import load_iris\n",
    "\n",
    "iris = load_iris()\n",
    "iris_data = iris.data\n",
    "iris_y = iris.target\n",
    "\n",
    "# Set gamma and beta values\n",
    "gamma = -0.5\n",
    "beta = 0.5\n",
    "\n",
    "# Run feature selection\n",
    "selected_features_iris = fisher_markov_selector(iris_data, iris_y, gamma, beta)\n",
    "print(\"Selected Features:\", selected_features_iris)"
   ]
  },
  {
   "cell_type": "markdown",
   "id": "7cdf8a40-9e5f-408c-a2e2-3aa9e22827b3",
   "metadata": {},
   "source": [
    "# Optical pen"
   ]
  },
  {
   "cell_type": "code",
   "execution_count": 100,
   "id": "f69c830d-4c13-47db-8fcb-1b1afc3f9038",
   "metadata": {},
   "outputs": [
    {
     "name": "stdout",
     "output_type": "stream",
     "text": [
      "Selected Features: [0. 1. 1. 1. 1. 1. 1. 1. 0. 1. 1. 1. 1. 1. 1. 1. 0. 1. 1. 1. 1. 1. 1. 1.\n",
      " 0. 1. 1. 1. 1. 1. 1. 0. 0. 1. 1. 1. 1. 1. 1. 0. 0. 1. 1. 1. 1. 1. 1. 0.\n",
      " 0. 1. 1. 1. 1. 1. 1. 1. 0. 1. 1. 1. 1. 1. 1. 1.]\n"
     ]
    }
   ],
   "source": [
    "# Load the Optical Pen dataset\n",
    "url = \"https://archive.ics.uci.edu/ml/machine-learning-databases/optdigits/optdigits.tra\"\n",
    "column_names = ['pixel' + str(i) for i in range(64)] + ['class']\n",
    "data = pd.read_csv(url, header=None, names=column_names)\n",
    "\n",
    "# Split the dataset into features (X) and target labels (y)\n",
    "optical_data = data.drop('class', axis=1)\n",
    "optical_y = data['class']\n",
    "\n",
    "gamma = -0.5\n",
    "beta = 0.1\n",
    "\n",
    "selected_features_optical = fisher_markov_selector(np.array(optical_data), np.array(optical_y), gamma, beta)\n",
    "\n",
    "print(\"Selected Features:\", selected_features_optical)"
   ]
  },
  {
   "cell_type": "markdown",
   "id": "30636423-5011-4db4-9f5b-3d41c35555bb",
   "metadata": {},
   "source": [
    "# Gene Expression Data"
   ]
  },
  {
   "cell_type": "code",
   "execution_count": 64,
   "id": "077a342a-9fc3-44a6-ac0f-8b84ce0aaa67",
   "metadata": {},
   "outputs": [
    {
     "name": "stdout",
     "output_type": "stream",
     "text": [
      "[[-0.65596487 -0.56239576  1.26912064 ... -0.21995141  0.13120849\n",
      "   0.74682323]\n",
      " [-0.23739987 -0.35406809  0.19924177 ... -0.03714221  1.95347887\n",
      "   2.25018585]\n",
      " [-0.02620014 -0.29920761  0.97409525 ... -0.91533748  0.10112479\n",
      "  -1.33840002]\n",
      " ...\n",
      " [ 3.16960193  0.76242707 -0.61820316 ...  0.59140993 -0.64388149\n",
      "  -1.31286269]\n",
      " [-0.76833216 -0.85001354  0.79121196 ...  0.10346723 -0.75766475\n",
      "   1.53719591]\n",
      " [ 2.53450452  2.06903002  1.55672107 ...  1.0696598  -1.27938308\n",
      "   0.70114378]] data\n",
      "(86, 15044) data shape\n",
      "[0 1 0 1 0 1 0 1 0 1 0 1 0 1 0 1 0 1 0 1 0 1 0 1 0 1 0 1 0 1 0 1 0 1 0 1 0\n",
      " 1 0 1 0 1 0 1 0 1 0 1 0 1 0 1 0 1 0 1 0 1 0 1 0 1 0 1 0 1 0 1 0 1 0 1 0 1\n",
      " 0 1 0 1 0 1 0 1 0 1 0 1] labels\n"
     ]
    }
   ],
   "source": [
    "import pandas as pd\n",
    "\n",
    "\n",
    "gene_data = pd.read_csv(\"cancer-GSE233242/NT.csv\").iloc[:, 2:]\n",
    "gene_data.index = gene_data.iloc[:, 0]\n",
    "gene_data = gene_data.iloc[:, 2:]\n",
    "\n",
    "prefixes = set([col.split('.')[0] for col in gene_data.columns[1:]])\n",
    "\n",
    "num_groups = len(prefixes)\n",
    "\n",
    "gene_data.rename(columns={col: col.split('.')[0] for col in gene_data.columns}, inplace=True)\n",
    "\n",
    "gene_data = gene_data.dropna()\n",
    "pv = gene_data.transpose()\n",
    "\n",
    "feature_average = pv.mean(axis=0)\n",
    "feature_std = pv.std(axis=0)\n",
    "\n",
    "normalized_gene_data = (pv - feature_average) / feature_std\n",
    "y = normalized_gene_data.index\n",
    "\n",
    "normalized_gene_data = np.array(normalized_gene_data)\n",
    "\n",
    "# Map disease names to numerical labels\n",
    "disease_to_label = {disease: label for label, disease in enumerate(y.unique())}\n",
    "y = y.map(disease_to_label)\n",
    "gene_label = np.array(y)\n",
    "\n",
    "print (normalized_gene_data, \"data\")\n",
    "print (normalized_gene_data.shape, \"data shape\")\n",
    "print (gene_label, \"labels\")"
   ]
  },
  {
   "cell_type": "code",
   "execution_count": 103,
   "id": "7571d015-e480-4ff0-b538-ec857bae0333",
   "metadata": {},
   "outputs": [
    {
     "name": "stdout",
     "output_type": "stream",
     "text": [
      "Selected Features: [0. 0. 0. ... 0. 0. 0.]\n"
     ]
    }
   ],
   "source": [
    "gamma = -0.5\n",
    "beta = 1\n",
    "\n",
    "selected_features = fisher_markov_selector(normalized_gene_data, gene_label, gamma, beta)\n",
    "print(\"Selected Features:\", selected_features)"
   ]
  },
  {
   "cell_type": "code",
   "execution_count": 104,
   "id": "a0bf8d7d-dd9f-4896-920a-f05adcb24629",
   "metadata": {},
   "outputs": [
    {
     "data": {
      "text/plain": [
       "32"
      ]
     },
     "execution_count": 104,
     "metadata": {},
     "output_type": "execute_result"
    }
   ],
   "source": [
    "np.count_nonzero(selected_features == 1)"
   ]
  },
  {
   "cell_type": "markdown",
   "id": "2677fc2e-a7a6-4b94-adf9-b25774e963d6",
   "metadata": {},
   "source": [
    "# Classification on Iris data"
   ]
  },
  {
   "cell_type": "markdown",
   "id": "bbf1484b-be97-43a4-bc70-121caa500754",
   "metadata": {},
   "source": [
    "## SVM "
   ]
  },
  {
   "cell_type": "code",
   "execution_count": 107,
   "id": "26633376-157e-41d1-8e63-76b7aa109cf9",
   "metadata": {},
   "outputs": [
    {
     "name": "stdout",
     "output_type": "stream",
     "text": [
      "Accuracy: 1.0\n"
     ]
    }
   ],
   "source": [
    "from sklearn.model_selection import train_test_split\n",
    "from sklearn.svm import SVC\n",
    "from sklearn.metrics import accuracy_score\n",
    "\n",
    "data_with_selected_features = iris_data[:, selected_features_iris == 1]\n",
    "\n",
    "X_train, X_test, y_train, y_test = train_test_split(data_with_selected_features, iris_y, test_size=0.2, random_state=42)\n",
    "\n",
    "# Train the classifier \n",
    "classifier = SVC(kernel='linear')\n",
    "classifier.fit(X_train, y_train)\n",
    "\n",
    "# Predict on the testing set\n",
    "y_pred = classifier.predict(X_test)\n",
    "\n",
    "# Evaluate the classifier\n",
    "accuracy = accuracy_score(y_test, y_pred)\n",
    "print(\"Accuracy:\", accuracy)"
   ]
  },
  {
   "cell_type": "code",
   "execution_count": 83,
   "id": "9234c900-68f7-4147-b6c2-3447a4a5c6f1",
   "metadata": {},
   "outputs": [
    {
     "name": "stdout",
     "output_type": "stream",
     "text": [
      "Accuracy: 1.0\n",
      "Classification Report:\n",
      "              precision    recall  f1-score   support\n",
      "\n",
      "           0       1.00      1.00      1.00        10\n",
      "           1       1.00      1.00      1.00         9\n",
      "           2       1.00      1.00      1.00        11\n",
      "\n",
      "    accuracy                           1.00        30\n",
      "   macro avg       1.00      1.00      1.00        30\n",
      "weighted avg       1.00      1.00      1.00        30\n",
      "\n"
     ]
    }
   ],
   "source": [
    "from sklearn.metrics import accuracy_score, classification_report, confusion_matrix\n",
    "\n",
    "accuracy = accuracy_score(y_test, y_pred)\n",
    "print(\"Accuracy:\", accuracy)\n",
    "    \n",
    "print(\"Classification Report:\")\n",
    "print(classification_report(y_test, y_pred))\n"
   ]
  },
  {
   "cell_type": "markdown",
   "id": "9b39178a-cb24-4d79-86a8-d61a2105e056",
   "metadata": {},
   "source": [
    "## Random Forest"
   ]
  },
  {
   "cell_type": "code",
   "execution_count": 85,
   "id": "b744d81e-fd26-4d47-bacb-1040c2d461f7",
   "metadata": {},
   "outputs": [
    {
     "name": "stdout",
     "output_type": "stream",
     "text": [
      "Accuracy: 1.0\n"
     ]
    }
   ],
   "source": [
    "from sklearn.ensemble import RandomForestClassifier\n",
    "\n",
    "classifier = RandomForestClassifier(n_estimators=100, random_state=42)\n",
    "classifier.fit(X_train, y_train)\n",
    "\n",
    "# Predict on the testing set\n",
    "y_pred = classifier.predict(X_test)\n",
    "\n",
    "# Evaluate the classifier\n",
    "accuracy = accuracy_score(y_test, y_pred)\n",
    "print(\"Accuracy:\", accuracy)"
   ]
  },
  {
   "cell_type": "code",
   "execution_count": 108,
   "id": "c9a4616a-ab59-4dac-aed5-e81a973526f2",
   "metadata": {},
   "outputs": [
    {
     "name": "stdout",
     "output_type": "stream",
     "text": [
      "Accuracy: 1.0\n",
      "Classification Report:\n",
      "              precision    recall  f1-score   support\n",
      "\n",
      "           0       1.00      1.00      1.00        10\n",
      "           1       1.00      1.00      1.00         9\n",
      "           2       1.00      1.00      1.00        11\n",
      "\n",
      "    accuracy                           1.00        30\n",
      "   macro avg       1.00      1.00      1.00        30\n",
      "weighted avg       1.00      1.00      1.00        30\n",
      "\n"
     ]
    }
   ],
   "source": [
    "accuracy = accuracy_score(y_test, y_pred)\n",
    "print(\"Accuracy:\", accuracy)\n",
    "    \n",
    "print(\"Classification Report:\")\n",
    "print(classification_report(y_test, y_pred))\n"
   ]
  },
  {
   "cell_type": "markdown",
   "id": "74f0a7ce-b961-4548-9b01-05b799c2ae3d",
   "metadata": {},
   "source": [
    "# Classification on Optical Pen"
   ]
  },
  {
   "cell_type": "code",
   "execution_count": 109,
   "id": "7e4d7797-0134-4fef-9ab1-7e510cd89b00",
   "metadata": {},
   "outputs": [
    {
     "name": "stdout",
     "output_type": "stream",
     "text": [
      "Accuracy: 0.9769874476987448\n"
     ]
    }
   ],
   "source": [
    "data_selected_features_opt = optical_data.iloc[:,selected_features_optical.astype(bool)]\n",
    "\n",
    "X_train, X_test, y_train, y_test = train_test_split(data_selected_features_opt, optical_y, test_size=0.25, random_state=42)\n",
    "\n",
    "classifier = SVC(kernel='linear')\n",
    "classifier.fit(X_train, y_train)\n",
    "\n",
    "# Predict on the testing set\n",
    "y_pred = classifier.predict(X_test)\n",
    "\n",
    "# Evaluate the classifier\n",
    "accuracy = accuracy_score(y_test, y_pred)\n",
    "print(\"Accuracy:\", accuracy)"
   ]
  },
  {
   "cell_type": "code",
   "execution_count": 110,
   "id": "004e9a25-7352-4c26-8f92-5c905b20a91b",
   "metadata": {},
   "outputs": [
    {
     "name": "stdout",
     "output_type": "stream",
     "text": [
      "Classification Report:\n",
      "              precision    recall  f1-score   support\n",
      "\n",
      "           0       1.00      1.00      1.00        86\n",
      "           1       0.94      0.98      0.96        98\n",
      "           2       1.00      0.97      0.98       100\n",
      "           3       0.98      0.97      0.98       108\n",
      "           4       0.96      0.99      0.98        81\n",
      "           5       0.96      1.00      0.98        94\n",
      "           6       0.97      0.98      0.97        93\n",
      "           7       0.99      0.98      0.99       118\n",
      "           8       0.99      0.93      0.96        81\n",
      "           9       0.98      0.97      0.97        97\n",
      "\n",
      "    accuracy                           0.98       956\n",
      "   macro avg       0.98      0.98      0.98       956\n",
      "weighted avg       0.98      0.98      0.98       956\n",
      "\n"
     ]
    }
   ],
   "source": [
    "print(\"Classification Report:\")\n",
    "print(classification_report(y_test, y_pred))"
   ]
  },
  {
   "cell_type": "code",
   "execution_count": null,
   "id": "f69910e8-ed8a-435e-8ae3-378a18d150f6",
   "metadata": {},
   "outputs": [],
   "source": []
  }
 ],
 "metadata": {
  "kernelspec": {
   "display_name": "Python 3 (ipykernel)",
   "language": "python",
   "name": "python3"
  },
  "language_info": {
   "codemirror_mode": {
    "name": "ipython",
    "version": 3
   },
   "file_extension": ".py",
   "mimetype": "text/x-python",
   "name": "python",
   "nbconvert_exporter": "python",
   "pygments_lexer": "ipython3",
   "version": "3.7.8"
  },
  "widgets": {
   "application/vnd.jupyter.widget-state+json": {
    "state": {},
    "version_major": 2,
    "version_minor": 0
   }
  }
 },
 "nbformat": 4,
 "nbformat_minor": 5
}
